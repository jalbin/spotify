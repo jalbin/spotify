{
 "cells": [
  {
   "cell_type": "code",
   "execution_count": 4,
   "metadata": {},
   "outputs": [],
   "source": [
    "import pandas as pd\n",
    "import spotipy\n",
    "from spotipy.oauth2 import SpotifyClientCredentials\n",
    "sp = spotipy.Spotify(auth_manager=SpotifyClientCredentials())\n",
    "from time import sleep\n",
    "\n",
    "from sklearn.cluster import KMeans\n",
    "from sklearn.preprocessing import MinMaxScaler\n",
    "# transformer?\n",
    "# other preprocessing?"
   ]
  },
  {
   "cell_type": "code",
   "execution_count": 5,
   "metadata": {},
   "outputs": [],
   "source": [
    "tracks_and_features_df = pd.read_csv('tracks_and_features.csv')\n",
    "features_df = pd.read_csv('features.csv')"
   ]
  },
  {
   "cell_type": "code",
   "execution_count": 9,
   "metadata": {},
   "outputs": [
    {
     "name": "stderr",
     "output_type": "stream",
     "text": [
      "C:\\Users\\andys\\AppData\\Local\\Packages\\PythonSoftwareFoundation.Python.3.11_qbz5n2kfra8p0\\LocalCache\\local-packages\\Python311\\site-packages\\sklearn\\cluster\\_kmeans.py:1412: FutureWarning: The default value of `n_init` will change from 10 to 'auto' in 1.4. Set the value of `n_init` explicitly to suppress the warning\n",
      "  super()._check_params_vs_input(X, default_n_init=10)\n"
     ]
    },
    {
     "data": {
      "text/html": [
       "<style>#sk-container-id-1 {color: black;}#sk-container-id-1 pre{padding: 0;}#sk-container-id-1 div.sk-toggleable {background-color: white;}#sk-container-id-1 label.sk-toggleable__label {cursor: pointer;display: block;width: 100%;margin-bottom: 0;padding: 0.3em;box-sizing: border-box;text-align: center;}#sk-container-id-1 label.sk-toggleable__label-arrow:before {content: \"▸\";float: left;margin-right: 0.25em;color: #696969;}#sk-container-id-1 label.sk-toggleable__label-arrow:hover:before {color: black;}#sk-container-id-1 div.sk-estimator:hover label.sk-toggleable__label-arrow:before {color: black;}#sk-container-id-1 div.sk-toggleable__content {max-height: 0;max-width: 0;overflow: hidden;text-align: left;background-color: #f0f8ff;}#sk-container-id-1 div.sk-toggleable__content pre {margin: 0.2em;color: black;border-radius: 0.25em;background-color: #f0f8ff;}#sk-container-id-1 input.sk-toggleable__control:checked~div.sk-toggleable__content {max-height: 200px;max-width: 100%;overflow: auto;}#sk-container-id-1 input.sk-toggleable__control:checked~label.sk-toggleable__label-arrow:before {content: \"▾\";}#sk-container-id-1 div.sk-estimator input.sk-toggleable__control:checked~label.sk-toggleable__label {background-color: #d4ebff;}#sk-container-id-1 div.sk-label input.sk-toggleable__control:checked~label.sk-toggleable__label {background-color: #d4ebff;}#sk-container-id-1 input.sk-hidden--visually {border: 0;clip: rect(1px 1px 1px 1px);clip: rect(1px, 1px, 1px, 1px);height: 1px;margin: -1px;overflow: hidden;padding: 0;position: absolute;width: 1px;}#sk-container-id-1 div.sk-estimator {font-family: monospace;background-color: #f0f8ff;border: 1px dotted black;border-radius: 0.25em;box-sizing: border-box;margin-bottom: 0.5em;}#sk-container-id-1 div.sk-estimator:hover {background-color: #d4ebff;}#sk-container-id-1 div.sk-parallel-item::after {content: \"\";width: 100%;border-bottom: 1px solid gray;flex-grow: 1;}#sk-container-id-1 div.sk-label:hover label.sk-toggleable__label {background-color: #d4ebff;}#sk-container-id-1 div.sk-serial::before {content: \"\";position: absolute;border-left: 1px solid gray;box-sizing: border-box;top: 0;bottom: 0;left: 50%;z-index: 0;}#sk-container-id-1 div.sk-serial {display: flex;flex-direction: column;align-items: center;background-color: white;padding-right: 0.2em;padding-left: 0.2em;position: relative;}#sk-container-id-1 div.sk-item {position: relative;z-index: 1;}#sk-container-id-1 div.sk-parallel {display: flex;align-items: stretch;justify-content: center;background-color: white;position: relative;}#sk-container-id-1 div.sk-item::before, #sk-container-id-1 div.sk-parallel-item::before {content: \"\";position: absolute;border-left: 1px solid gray;box-sizing: border-box;top: 0;bottom: 0;left: 50%;z-index: -1;}#sk-container-id-1 div.sk-parallel-item {display: flex;flex-direction: column;z-index: 1;position: relative;background-color: white;}#sk-container-id-1 div.sk-parallel-item:first-child::after {align-self: flex-end;width: 50%;}#sk-container-id-1 div.sk-parallel-item:last-child::after {align-self: flex-start;width: 50%;}#sk-container-id-1 div.sk-parallel-item:only-child::after {width: 0;}#sk-container-id-1 div.sk-dashed-wrapped {border: 1px dashed gray;margin: 0 0.4em 0.5em 0.4em;box-sizing: border-box;padding-bottom: 0.4em;background-color: white;}#sk-container-id-1 div.sk-label label {font-family: monospace;font-weight: bold;display: inline-block;line-height: 1.2em;}#sk-container-id-1 div.sk-label-container {text-align: center;}#sk-container-id-1 div.sk-container {/* jupyter's `normalize.less` sets `[hidden] { display: none; }` but bootstrap.min.css set `[hidden] { display: none !important; }` so we also need the `!important` here to be able to override the default hidden behavior on the sphinx rendered scikit-learn.org. See: https://github.com/scikit-learn/scikit-learn/issues/21755 */display: inline-block !important;position: relative;}#sk-container-id-1 div.sk-text-repr-fallback {display: none;}</style><div id=\"sk-container-id-1\" class=\"sk-top-container\"><div class=\"sk-text-repr-fallback\"><pre>KMeans(n_clusters=100)</pre><b>In a Jupyter environment, please rerun this cell to show the HTML representation or trust the notebook. <br />On GitHub, the HTML representation is unable to render, please try loading this page with nbviewer.org.</b></div><div class=\"sk-container\" hidden><div class=\"sk-item\"><div class=\"sk-estimator sk-toggleable\"><input class=\"sk-toggleable__control sk-hidden--visually\" id=\"sk-estimator-id-1\" type=\"checkbox\" checked><label for=\"sk-estimator-id-1\" class=\"sk-toggleable__label sk-toggleable__label-arrow\">KMeans</label><div class=\"sk-toggleable__content\"><pre>KMeans(n_clusters=100)</pre></div></div></div></div></div>"
      ],
      "text/plain": [
       "KMeans(n_clusters=100)"
      ]
     },
     "execution_count": 9,
     "metadata": {},
     "output_type": "execute_result"
    }
   ],
   "source": [
    "km100 = KMeans(100)\n",
    "scaler = MinMaxScaler()\n",
    "scaled_features = scaler.fit_transform(features_df)\n",
    "km100.fit(scaled_features)"
   ]
  },
  {
   "cell_type": "code",
   "execution_count": 13,
   "metadata": {},
   "outputs": [
    {
     "data": {
      "text/plain": [
       "array([81,  0, 21, ..., 66, 32, 10])"
      ]
     },
     "execution_count": 13,
     "metadata": {},
     "output_type": "execute_result"
    }
   ],
   "source": [
    "km100.labels_"
   ]
  },
  {
   "cell_type": "code",
   "execution_count": 14,
   "metadata": {},
   "outputs": [
    {
     "data": {
      "text/html": [
       "<div>\n",
       "<style scoped>\n",
       "    .dataframe tbody tr th:only-of-type {\n",
       "        vertical-align: middle;\n",
       "    }\n",
       "\n",
       "    .dataframe tbody tr th {\n",
       "        vertical-align: top;\n",
       "    }\n",
       "\n",
       "    .dataframe thead th {\n",
       "        text-align: right;\n",
       "    }\n",
       "</style>\n",
       "<table border=\"1\" class=\"dataframe\">\n",
       "  <thead>\n",
       "    <tr style=\"text-align: right;\">\n",
       "      <th></th>\n",
       "      <th>artist_id</th>\n",
       "      <th>artist_name</th>\n",
       "      <th>track_id</th>\n",
       "      <th>track_name</th>\n",
       "      <th>album_release_date</th>\n",
       "      <th>album_release_date_precision</th>\n",
       "      <th>is_explicit</th>\n",
       "      <th>duration_ms</th>\n",
       "      <th>popularity</th>\n",
       "      <th>danceability</th>\n",
       "      <th>...</th>\n",
       "      <th>instrumentalness</th>\n",
       "      <th>liveness</th>\n",
       "      <th>valence</th>\n",
       "      <th>tempo</th>\n",
       "      <th>duration_ms.1</th>\n",
       "      <th>time_signature</th>\n",
       "      <th>track_href</th>\n",
       "      <th>album_release_year</th>\n",
       "      <th>album_release_decade</th>\n",
       "      <th>cluster_km100</th>\n",
       "    </tr>\n",
       "  </thead>\n",
       "  <tbody>\n",
       "    <tr>\n",
       "      <th>33</th>\n",
       "      <td>3HphLd0XiELTvIPYf55dYC</td>\n",
       "      <td>Dance Fruits Music</td>\n",
       "      <td>3M89zvwwb1jtDUDKYNsdiA</td>\n",
       "      <td>Calabria (feat. Fallen Roses, Lujavo &amp; Lunis)</td>\n",
       "      <td>2021-04-16</td>\n",
       "      <td>day</td>\n",
       "      <td>False</td>\n",
       "      <td>128500</td>\n",
       "      <td>63</td>\n",
       "      <td>0.727</td>\n",
       "      <td>...</td>\n",
       "      <td>0.550</td>\n",
       "      <td>0.0963</td>\n",
       "      <td>0.3720</td>\n",
       "      <td>124.020</td>\n",
       "      <td>128500</td>\n",
       "      <td>4</td>\n",
       "      <td>https://api.spotify.com/v1/tracks/3M89zvwwb1jt...</td>\n",
       "      <td>2021</td>\n",
       "      <td>2020</td>\n",
       "      <td>4</td>\n",
       "    </tr>\n",
       "    <tr>\n",
       "      <th>233</th>\n",
       "      <td>5mIowAJMp7RKNheelruV5z</td>\n",
       "      <td>&amp;ME</td>\n",
       "      <td>3BWFWF4G8XySY7b98HjS6K</td>\n",
       "      <td>L.I.F.E</td>\n",
       "      <td>2023-06-30</td>\n",
       "      <td>day</td>\n",
       "      <td>False</td>\n",
       "      <td>449093</td>\n",
       "      <td>53</td>\n",
       "      <td>0.720</td>\n",
       "      <td>...</td>\n",
       "      <td>0.877</td>\n",
       "      <td>0.1150</td>\n",
       "      <td>0.0375</td>\n",
       "      <td>119.998</td>\n",
       "      <td>449093</td>\n",
       "      <td>4</td>\n",
       "      <td>https://api.spotify.com/v1/tracks/3BWFWF4G8XyS...</td>\n",
       "      <td>2023</td>\n",
       "      <td>2020</td>\n",
       "      <td>4</td>\n",
       "    </tr>\n",
       "    <tr>\n",
       "      <th>241</th>\n",
       "      <td>5Owm9QgL9BSCRQKTX6T08G</td>\n",
       "      <td>Red Axes</td>\n",
       "      <td>7lho7sTZBzie1gERq3dEtm</td>\n",
       "      <td>Sun My Sweet Sun</td>\n",
       "      <td>2016-03-18</td>\n",
       "      <td>day</td>\n",
       "      <td>False</td>\n",
       "      <td>527566</td>\n",
       "      <td>33</td>\n",
       "      <td>0.704</td>\n",
       "      <td>...</td>\n",
       "      <td>0.790</td>\n",
       "      <td>0.3690</td>\n",
       "      <td>0.4470</td>\n",
       "      <td>119.978</td>\n",
       "      <td>527566</td>\n",
       "      <td>4</td>\n",
       "      <td>https://api.spotify.com/v1/tracks/7lho7sTZBzie...</td>\n",
       "      <td>2016</td>\n",
       "      <td>2010</td>\n",
       "      <td>4</td>\n",
       "    </tr>\n",
       "  </tbody>\n",
       "</table>\n",
       "<p>3 rows × 26 columns</p>\n",
       "</div>"
      ],
      "text/plain": [
       "                  artist_id         artist_name                track_id  \\\n",
       "33   3HphLd0XiELTvIPYf55dYC  Dance Fruits Music  3M89zvwwb1jtDUDKYNsdiA   \n",
       "233  5mIowAJMp7RKNheelruV5z                 &ME  3BWFWF4G8XySY7b98HjS6K   \n",
       "241  5Owm9QgL9BSCRQKTX6T08G            Red Axes  7lho7sTZBzie1gERq3dEtm   \n",
       "\n",
       "                                        track_name album_release_date  \\\n",
       "33   Calabria (feat. Fallen Roses, Lujavo & Lunis)         2021-04-16   \n",
       "233                                        L.I.F.E         2023-06-30   \n",
       "241                               Sun My Sweet Sun         2016-03-18   \n",
       "\n",
       "    album_release_date_precision  is_explicit  duration_ms  popularity  \\\n",
       "33                           day        False       128500          63   \n",
       "233                          day        False       449093          53   \n",
       "241                          day        False       527566          33   \n",
       "\n",
       "     danceability  ...  instrumentalness  liveness  valence    tempo  \\\n",
       "33          0.727  ...             0.550    0.0963   0.3720  124.020   \n",
       "233         0.720  ...             0.877    0.1150   0.0375  119.998   \n",
       "241         0.704  ...             0.790    0.3690   0.4470  119.978   \n",
       "\n",
       "     duration_ms.1  time_signature  \\\n",
       "33          128500               4   \n",
       "233         449093               4   \n",
       "241         527566               4   \n",
       "\n",
       "                                            track_href  album_release_year  \\\n",
       "33   https://api.spotify.com/v1/tracks/3M89zvwwb1jt...                2021   \n",
       "233  https://api.spotify.com/v1/tracks/3BWFWF4G8XyS...                2023   \n",
       "241  https://api.spotify.com/v1/tracks/7lho7sTZBzie...                2016   \n",
       "\n",
       "     album_release_decade  cluster_km100  \n",
       "33                   2020              4  \n",
       "233                  2020              4  \n",
       "241                  2010              4  \n",
       "\n",
       "[3 rows x 26 columns]"
      ]
     },
     "execution_count": 14,
     "metadata": {},
     "output_type": "execute_result"
    }
   ],
   "source": [
    "tracks_clustered_df = tracks_and_features_df.copy()\n",
    "tracks_clustered_df['cluster_km100'] = km100.labels_\n",
    "tracks_clustered_df[tracks_clustered_df['cluster_km100']==4].head(3)"
   ]
  },
  {
   "cell_type": "code",
   "execution_count": 15,
   "metadata": {},
   "outputs": [],
   "source": [
    "tracks_clustered_df.to_csv('tracks_clustered_df.csv', index=False)"
   ]
  }
 ],
 "metadata": {
  "kernelspec": {
   "display_name": "Python 3",
   "language": "python",
   "name": "python3"
  },
  "language_info": {
   "codemirror_mode": {
    "name": "ipython",
    "version": 3
   },
   "file_extension": ".py",
   "mimetype": "text/x-python",
   "name": "python",
   "nbconvert_exporter": "python",
   "pygments_lexer": "ipython3",
   "version": "3.11.7"
  }
 },
 "nbformat": 4,
 "nbformat_minor": 2
}
