{
 "cells": [
  {
   "cell_type": "code",
   "execution_count": null,
   "id": "e7244b8d-bc1d-4e17-ba92-986c176ebb1f",
   "metadata": {},
   "outputs": [],
   "source": [
    "import pandas as pd\n",
    "import spotipy\n",
    "from spotipy.oauth2 import SpotifyClientCredentials\n",
    "from sklearn.cluster import DBSCAN\n",
    "from sklearn.preprocessing import MinMaxScaler"
   ]
  },
  {
   "cell_type": "code",
   "execution_count": null,
   "id": "ede21cbc-7f87-407b-9a12-772a0b8dc0bc",
   "metadata": {},
   "outputs": [],
   "source": [
    "# Loading datasets\n",
    "tracks_and_features_df = pd.read_csv('tracks_and_features.csv')\n",
    "features_df = pd.read_csv('features.csv')"
   ]
  },
  {
   "cell_type": "code",
   "execution_count": null,
   "id": "6b3cb79f-d016-45df-8af5-1448bdcd2eae",
   "metadata": {},
   "outputs": [],
   "source": [
    "# Creating a DBSCAN instance (eps and min_samples need adjustment)\n",
    "dbscan = DBSCAN(eps=0.5, min_samples=100)"
   ]
  },
  {
   "cell_type": "code",
   "execution_count": null,
   "id": "f71fe600-1faa-4b4b-8aae-4f22fb74827e",
   "metadata": {},
   "outputs": [],
   "source": [
    "# Normalising\n",
    "scaler = MinMaxScaler()\n",
    "scaled_features = scaler.fit_transform(features_df)"
   ]
  },
  {
   "cell_type": "code",
   "execution_count": null,
   "id": "b8b87655-7660-4938-9cc2-8f5a83681319",
   "metadata": {},
   "outputs": [],
   "source": [
    "# Applying DBSCAN to normalized data\n",
    "dbscan.fit(scaled_features)"
   ]
  },
  {
   "cell_type": "code",
   "execution_count": null,
   "id": "6184e823-9eb3-44f1-93fb-c1c3707bdd0d",
   "metadata": {},
   "outputs": [],
   "source": [
    "# Labeling clusters\n",
    "tracks_clustered_df = tracks_and_features_df.copy()\n",
    "tracks_clustered_df['cluster_dbscan'] = dbscan.labels_"
   ]
  },
  {
   "cell_type": "code",
   "execution_count": null,
   "id": "e1500b1e-38ad-4aa4-a9f0-feb7d8f6978f",
   "metadata": {},
   "outputs": [],
   "source": [
    "# Picking arbitrary a cluster (the first one for instance)\n",
    "tracks_clustered_df[tracks_clustered_df['cluster_dbscan'] == 0].head(3)"
   ]
  },
  {
   "cell_type": "code",
   "execution_count": null,
   "id": "21216eb2-c78d-4975-9c8a-ce5976cf3de2",
   "metadata": {},
   "outputs": [],
   "source": [
    "# Saving data into a csv\n",
    "tracks_clustered_df.to_csv('tracks_clustered_df_DBSCAN.csv', index=False)"
   ]
  }
 ],
 "metadata": {
  "kernelspec": {
   "display_name": "Python 3 (ipykernel)",
   "language": "python",
   "name": "python3"
  },
  "language_info": {
   "codemirror_mode": {
    "name": "ipython",
    "version": 3
   },
   "file_extension": ".py",
   "mimetype": "text/x-python",
   "name": "python",
   "nbconvert_exporter": "python",
   "pygments_lexer": "ipython3",
   "version": "3.8.18"
  }
 },
 "nbformat": 4,
 "nbformat_minor": 5
}
